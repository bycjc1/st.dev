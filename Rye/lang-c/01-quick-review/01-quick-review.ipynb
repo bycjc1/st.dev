{
 "cells": [
  {
   "cell_type": "code",
   "execution_count": 2,
   "metadata": {
    "vscode": {
     "languageId": "cpp"
    }
   },
   "outputs": [],
   "source": [
    "#include <stdlib.h>\n",
    "#include <stdio.h>\n",
    "#include <stdint.h>\n",
    "#include <assert.h>\n",
    "#include <stdbool.h>"
   ]
  },
  {
   "cell_type": "code",
   "execution_count": 13,
   "metadata": {
    "vscode": {
     "languageId": "cpp"
    }
   },
   "outputs": [],
   "source": [
    "typedef enum {\n",
    "    Host,\n",
    "    IP\n",
    "} IP_ADDR_TYPE;\n",
    "\n",
    "typedef struct {\n",
    "    size_t id;\n",
    "    uint16_t port;\n",
    "    bool closed;\n",
    "    IP_ADDR_TYPE addr_type;\n",
    "    union {\n",
    "        char host_name[256];\n",
    "        char ip[24];\n",
    "    };\n",
    "} CONN;\n",
    "static_assert(sizeof(CONN) <= 0x200);"
   ]
  },
  {
   "cell_type": "code",
   "execution_count": 20,
   "metadata": {
    "vscode": {
     "languageId": "cpp"
    }
   },
   "outputs": [],
   "source": [
    "#define typename(x) _Generic((x), \\\n",
    "    unsigned short: \"unsigned short int\", \\\n",
    "    unsigned long: \"unsigned long int\", \\\n",
    "    default: \"unknown\")"
   ]
  },
  {
   "cell_type": "code",
   "execution_count": 21,
   "metadata": {
    "vscode": {
     "languageId": "cpp"
    }
   },
   "outputs": [
    {
     "name": "stdout",
     "output_type": "stream",
     "text": [
      "Port: 8080\n",
      "Host/Addr: 192.168.1.1\n",
      "Internal type of `id` is: unsigned long int\n",
      "Port: 8088\n",
      "Host/Addr: http://localhost/\n",
      "Internal type of `id` is: unsigned long int\n",
      "Port: 80\n",
      "Host/Addr: 127.0.0.1\n",
      "Internal type of `id` is: unsigned long int\n"
     ]
    }
   ],
   "source": [
    "const char* findAddr(const CONN* pip)\n",
    "{\n",
    "    assert(pip != NULL);\n",
    "    return pip->addr_type == IP_ADDR_TYPE::Host ? pip->host_name : pip->ip;\n",
    "}\n",
    "\n",
    "const CONN conns[] = {\n",
    "    [2] = { 1, 80, true, IP_ADDR_TYPE::IP, { .ip = \"127.0.0.1\" } },\n",
    "    [0] = { 2, 8080, false, IP_ADDR_TYPE::IP, { .ip = \"192.168.1.1\" } },\n",
    "    { 3, 8088, false, IP_ADDR_TYPE::Host, { .host_name = \"http://localhost/\" } },\n",
    "};\n",
    "\n",
    "for (size_t i = 0; i < sizeof(conns)/sizeof(CONN); ++ i) {\n",
    "    printf(\"Port: %d\\n\"\n",
    "        \"Host/Addr: %s\\n\"\n",
    "        \"Internal type of `id` is: %s\\n\",\n",
    "        conns[i].port,\n",
    "        findAddr(&conns[i]),\n",
    "        typename(conns[i].id));\n",
    "}"
   ]
  }
 ],
 "metadata": {
  "kernelspec": {
   "display_name": "C++17",
   "language": "C++17",
   "name": "xcpp17"
  },
  "language_info": {
   "codemirror_mode": "text/x-c++src",
   "file_extension": ".cpp",
   "mimetype": "text/x-c++src",
   "name": "c++",
   "version": "17"
  }
 },
 "nbformat": 4,
 "nbformat_minor": 2
}
